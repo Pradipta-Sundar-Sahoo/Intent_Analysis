{
 "cells": [
  {
   "cell_type": "code",
   "execution_count": null,
   "metadata": {},
   "outputs": [
    {
     "name": "stderr",
     "output_type": "stream",
     "text": [
      "c:\\Users\\pradi\\OneDrive\\Desktop\\Tifin_Test_1\\.conda\\Lib\\site-packages\\tqdm\\auto.py:21: TqdmWarning: IProgress not found. Please update jupyter and ipywidgets. See https://ipywidgets.readthedocs.io/en/stable/user_install.html\n",
      "  from .autonotebook import tqdm as notebook_tqdm\n",
      "Some weights of RobertaForSequenceClassification were not initialized from the model checkpoint at roberta-base and are newly initialized: ['classifier.dense.bias', 'classifier.dense.weight', 'classifier.out_proj.bias', 'classifier.out_proj.weight']\n",
      "You should probably TRAIN this model on a down-stream task to be able to use it for predictions and inference.\n",
      "c:\\Users\\pradi\\OneDrive\\Desktop\\Tifin_Test_1\\.conda\\Lib\\site-packages\\transformers\\optimization.py:591: FutureWarning: This implementation of AdamW is deprecated and will be removed in a future version. Use the PyTorch implementation torch.optim.AdamW instead, or set `no_deprecation_warning=True` to disable this warning\n",
      "  warnings.warn(\n"
     ]
    },
    {
     "name": "stdout",
     "output_type": "stream",
     "text": [
      "\n",
      "Epoch 1/10\n"
     ]
    },
    {
     "name": "stderr",
     "output_type": "stream",
     "text": [
      "Training: 100%|██████████| 17/17 [00:03<00:00,  4.93it/s]\n",
      "Evaluation: 100%|██████████| 5/5 [00:00<00:00, 21.86it/s]\n"
     ]
    },
    {
     "name": "stdout",
     "output_type": "stream",
     "text": [
      "Train Loss: 3.0122, Train Accuracy: 0.0649\n",
      "Validation Loss: 2.9105, Validation Accuracy: 0.1212\n",
      "\n",
      "Epoch 2/10\n"
     ]
    },
    {
     "name": "stderr",
     "output_type": "stream",
     "text": [
      "Training: 100%|██████████| 17/17 [00:03<00:00,  5.32it/s]\n",
      "Evaluation: 100%|██████████| 5/5 [00:00<00:00, 21.34it/s]\n"
     ]
    },
    {
     "name": "stdout",
     "output_type": "stream",
     "text": [
      "Train Loss: 2.5795, Train Accuracy: 0.3092\n",
      "Validation Loss: 2.1435, Validation Accuracy: 0.4697\n",
      "\n",
      "Epoch 3/10\n"
     ]
    },
    {
     "name": "stderr",
     "output_type": "stream",
     "text": [
      "Training: 100%|██████████| 17/17 [00:03<00:00,  5.32it/s]\n",
      "Evaluation: 100%|██████████| 5/5 [00:00<00:00, 22.76it/s]\n"
     ]
    },
    {
     "name": "stdout",
     "output_type": "stream",
     "text": [
      "Train Loss: 1.5897, Train Accuracy: 0.6870\n",
      "Validation Loss: 1.4039, Validation Accuracy: 0.6818\n",
      "\n",
      "Epoch 4/10\n"
     ]
    },
    {
     "name": "stderr",
     "output_type": "stream",
     "text": [
      "Training: 100%|██████████| 17/17 [00:03<00:00,  5.29it/s]\n",
      "Evaluation: 100%|██████████| 5/5 [00:00<00:00, 22.04it/s]\n"
     ]
    },
    {
     "name": "stdout",
     "output_type": "stream",
     "text": [
      "Train Loss: 0.8791, Train Accuracy: 0.8893\n",
      "Validation Loss: 0.8866, Validation Accuracy: 0.8333\n",
      "\n",
      "Epoch 5/10\n"
     ]
    },
    {
     "name": "stderr",
     "output_type": "stream",
     "text": [
      "Training: 100%|██████████| 17/17 [00:03<00:00,  5.33it/s]\n",
      "Evaluation: 100%|██████████| 5/5 [00:00<00:00, 21.47it/s]\n"
     ]
    },
    {
     "name": "stdout",
     "output_type": "stream",
     "text": [
      "Train Loss: 0.4727, Train Accuracy: 0.9618\n",
      "Validation Loss: 0.6965, Validation Accuracy: 0.8939\n",
      "\n",
      "Epoch 6/10\n"
     ]
    },
    {
     "name": "stderr",
     "output_type": "stream",
     "text": [
      "Training: 100%|██████████| 17/17 [00:03<00:00,  5.37it/s]\n",
      "Evaluation: 100%|██████████| 5/5 [00:00<00:00, 21.50it/s]\n"
     ]
    },
    {
     "name": "stdout",
     "output_type": "stream",
     "text": [
      "Train Loss: 0.2659, Train Accuracy: 0.9885\n",
      "Validation Loss: 0.5805, Validation Accuracy: 0.9091\n",
      "\n",
      "Epoch 7/10\n"
     ]
    },
    {
     "name": "stderr",
     "output_type": "stream",
     "text": [
      "Training: 100%|██████████| 17/17 [00:03<00:00,  5.37it/s]\n",
      "Evaluation: 100%|██████████| 5/5 [00:00<00:00, 20.34it/s]\n"
     ]
    },
    {
     "name": "stdout",
     "output_type": "stream",
     "text": [
      "Train Loss: 0.1587, Train Accuracy: 0.9924\n",
      "Validation Loss: 0.5499, Validation Accuracy: 0.8939\n",
      "\n",
      "Epoch 8/10\n"
     ]
    },
    {
     "name": "stderr",
     "output_type": "stream",
     "text": [
      "Training: 100%|██████████| 17/17 [00:03<00:00,  5.35it/s]\n",
      "Evaluation: 100%|██████████| 5/5 [00:00<00:00, 20.81it/s]\n"
     ]
    },
    {
     "name": "stdout",
     "output_type": "stream",
     "text": [
      "Train Loss: 0.1145, Train Accuracy: 0.9962\n",
      "Validation Loss: 0.5166, Validation Accuracy: 0.8788\n",
      "\n",
      "Epoch 9/10\n"
     ]
    },
    {
     "name": "stderr",
     "output_type": "stream",
     "text": [
      "Training: 100%|██████████| 17/17 [00:03<00:00,  5.42it/s]\n",
      "Evaluation: 100%|██████████| 5/5 [00:00<00:00, 20.35it/s]\n"
     ]
    },
    {
     "name": "stdout",
     "output_type": "stream",
     "text": [
      "Train Loss: 0.0746, Train Accuracy: 1.0000\n",
      "Validation Loss: 0.4795, Validation Accuracy: 0.9091\n",
      "\n",
      "Epoch 10/10\n"
     ]
    },
    {
     "name": "stderr",
     "output_type": "stream",
     "text": [
      "Training: 100%|██████████| 17/17 [00:03<00:00,  5.36it/s]\n",
      "Evaluation: 100%|██████████| 5/5 [00:00<00:00, 21.32it/s]\n"
     ]
    },
    {
     "name": "stdout",
     "output_type": "stream",
     "text": [
      "Train Loss: 0.0572, Train Accuracy: 1.0000\n",
      "Validation Loss: 0.4694, Validation Accuracy: 0.9242\n"
     ]
    },
    {
     "data": {
      "text/plain": [
       "('./bert_intent_model\\\\tokenizer_config.json',\n",
       " './bert_intent_model\\\\special_tokens_map.json',\n",
       " './bert_intent_model\\\\vocab.json',\n",
       " './bert_intent_model\\\\merges.txt',\n",
       " './bert_intent_model\\\\added_tokens.json')"
      ]
     },
     "execution_count": 1,
     "metadata": {},
     "output_type": "execute_result"
    }
   ],
   "source": [
    "import pandas as pd\n",
    "import numpy as np\n",
    "from sklearn.model_selection import train_test_split\n",
    "from sklearn.metrics import classification_report\n",
    "from transformers import RobertaTokenizer, RobertaForSequenceClassification, AdamW\n",
    "from torch.utils.data import DataLoader, Dataset\n",
    "import torch\n",
    "from tqdm import tqdm\n",
    "\n",
    "# Set up device\n",
    "device = torch.device(\"cuda\" if torch.cuda.is_available() else \"cpu\")\n",
    "\n",
    "# Load dataset\n",
    "file_path = 'train.csv'\n",
    "data = pd.read_csv(file_path)\n",
    "\n",
    "# Data Preprocessing\n",
    "X = data['sentence'].tolist()\n",
    "y = pd.factorize(data['label'])[0]  # Convert labels to numerical format\n",
    "label_to_index = {label: i for i, label in enumerate(data['label'].unique())}\n",
    "index_to_label = {i: label for label, i in label_to_index.items()}\n",
    "\n",
    "# Split data\n",
    "X_train, X_val, y_train, y_val = train_test_split(X, y, test_size=0.2, random_state=42)\n",
    "\n",
    "# Tokenizer\n",
    "tokenizer = RobertaTokenizer.from_pretrained('roberta-base')\n",
    "\n",
    "# Dataset class\n",
    "class IntentDataset(Dataset):\n",
    "    def __init__(self, sentences, labels, tokenizer, max_len=128):\n",
    "        self.sentences = sentences\n",
    "        self.labels = labels\n",
    "        self.tokenizer = tokenizer\n",
    "        self.max_len = max_len\n",
    "\n",
    "    def __len__(self):\n",
    "        return len(self.sentences)\n",
    "\n",
    "    def __getitem__(self, idx):\n",
    "        sentence = self.sentences[idx]\n",
    "        label = self.labels[idx]\n",
    "        encoding = self.tokenizer(\n",
    "            sentence,\n",
    "            max_length=self.max_len,\n",
    "            padding='max_length',\n",
    "            truncation=True,\n",
    "            return_tensors=\"pt\"\n",
    "        )\n",
    "        return {\n",
    "            'input_ids': encoding['input_ids'].squeeze(0),\n",
    "            'attention_mask': encoding['attention_mask'].squeeze(0),\n",
    "            'label': torch.tensor(label, dtype=torch.long)\n",
    "        }\n",
    "\n",
    "# Prepare datasets and loaders\n",
    "train_dataset = IntentDataset(X_train, y_train, tokenizer)\n",
    "val_dataset = IntentDataset(X_val, y_val, tokenizer)\n",
    "\n",
    "train_loader = DataLoader(train_dataset, batch_size=16, shuffle=True)\n",
    "val_loader = DataLoader(val_dataset, batch_size=16)\n",
    "\n",
    "# Load pre-trained BERT model\n",
    "model = RobertaForSequenceClassification.from_pretrained('roberta-base', num_labels=len(label_to_index))\n",
    "model.to(device)\n",
    "\n",
    "# Optimizer\n",
    "optimizer = AdamW(model.parameters(), lr=5e-5)\n",
    "\n",
    "# Training and Evaluation Loop\n",
    "def train_epoch(model, data_loader, optimizer, device):\n",
    "    model.train()\n",
    "    total_loss = 0\n",
    "    correct_predictions = 0\n",
    "\n",
    "    for batch in tqdm(data_loader, desc=\"Training\"):\n",
    "        input_ids = batch['input_ids'].to(device)\n",
    "        attention_mask = batch['attention_mask'].to(device)\n",
    "        labels = batch['label'].to(device)\n",
    "\n",
    "        optimizer.zero_grad()\n",
    "        outputs = model(input_ids=input_ids, attention_mask=attention_mask, labels=labels)\n",
    "        loss = outputs.loss\n",
    "        logits = outputs.logits\n",
    "        total_loss += loss.item()\n",
    "\n",
    "        _, preds = torch.max(logits, dim=1)\n",
    "        correct_predictions += torch.sum(preds == labels)\n",
    "\n",
    "        loss.backward()\n",
    "        optimizer.step()\n",
    "\n",
    "    return total_loss / len(data_loader), correct_predictions.double() / len(data_loader.dataset)\n",
    "\n",
    "def evaluate_epoch(model, data_loader, device):\n",
    "    model.eval()\n",
    "    total_loss = 0\n",
    "    correct_predictions = 0\n",
    "    predictions, true_labels = [], []\n",
    "\n",
    "    with torch.no_grad():\n",
    "        for batch in tqdm(data_loader, desc=\"Evaluation\"):\n",
    "            input_ids = batch['input_ids'].to(device)\n",
    "            attention_mask = batch['attention_mask'].to(device)\n",
    "            labels = batch['label'].to(device)\n",
    "\n",
    "            outputs = model(input_ids=input_ids, attention_mask=attention_mask, labels=labels)\n",
    "            loss = outputs.loss\n",
    "            logits = outputs.logits\n",
    "            total_loss += loss.item()\n",
    "\n",
    "            _, preds = torch.max(logits, dim=1)\n",
    "            correct_predictions += torch.sum(preds == labels)\n",
    "\n",
    "            predictions.extend(preds.cpu().numpy())\n",
    "            true_labels.extend(labels.cpu().numpy())\n",
    "\n",
    "    return total_loss / len(data_loader), correct_predictions.double() / len(data_loader.dataset), predictions, true_labels\n",
    "\n",
    "# Train the model\n",
    "EPOCHS = 10\n",
    "for epoch in range(EPOCHS):\n",
    "    print(f\"\\nEpoch {epoch + 1}/{EPOCHS}\")\n",
    "    train_loss, train_acc = train_epoch(model, train_loader, optimizer, device)\n",
    "    val_loss, val_acc, val_preds, val_labels = evaluate_epoch(model, val_loader, device)\n",
    "\n",
    "    print(f\"Train Loss: {train_loss:.4f}, Train Accuracy: {train_acc:.4f}\")\n",
    "    print(f\"Validation Loss: {val_loss:.4f}, Validation Accuracy: {val_acc:.4f}\")\n",
    "\n",
    "# Save Model\n",
    "model.save_pretrained('./roberta_intent_model')\n",
    "tokenizer.save_pretrained('./roberta_intent_model')\n"
   ]
  },
  {
   "cell_type": "code",
   "execution_count": 2,
   "metadata": {},
   "outputs": [
    {
     "name": "stdout",
     "output_type": "stream",
     "text": [
      "\n",
      "Classification Report:\n",
      "                       precision    recall  f1-score   support\n",
      "\n",
      "                  EMI       0.83      1.00      0.91         5\n",
      "                  COD       1.00      1.00      1.00         2\n",
      "       ORTHO_FEATURES       1.00      1.00      1.00         3\n",
      "        ERGO_FEATURES       1.00      1.00      1.00         4\n",
      "           COMPARISON       1.00      1.00      1.00         1\n",
      "             WARRANTY       1.00      1.00      1.00         5\n",
      "100_NIGHT_TRIAL_OFFER       1.00      0.75      0.86         4\n",
      "   SIZE_CUSTOMIZATION       1.00      1.00      1.00         1\n",
      "   WHAT_SIZE_TO_ORDER       1.00      0.75      0.86         4\n",
      "             LEAD_GEN       0.80      1.00      0.89         4\n",
      "        CHECK_PINCODE       1.00      1.00      1.00         1\n",
      "         DISTRIBUTORS       1.00      0.88      0.93         8\n",
      "        MATTRESS_COST       1.00      1.00      1.00         3\n",
      "     PRODUCT_VARIANTS       0.67      1.00      0.80         2\n",
      "   ABOUT_SOF_MATTRESS       1.00      0.67      0.80         3\n",
      "    DELAY_IN_DELIVERY       1.00      0.50      0.67         2\n",
      "         ORDER_STATUS       0.50      1.00      0.67         1\n",
      "      RETURN_EXCHANGE       0.83      1.00      0.91         5\n",
      "         CANCEL_ORDER       1.00      1.00      1.00         2\n",
      "              PILLOWS       1.00      1.00      1.00         3\n",
      "               OFFERS       1.00      1.00      1.00         3\n",
      "\n",
      "             accuracy                           0.92        66\n",
      "            macro avg       0.93      0.93      0.92        66\n",
      "         weighted avg       0.94      0.92      0.92        66\n",
      "\n"
     ]
    }
   ],
   "source": [
    "\n",
    "# Classification Report\n",
    "print(\"\\nClassification Report:\")\n",
    "print(classification_report(val_labels, val_preds, target_names=list(label_to_index.keys())))\n"
   ]
  }
 ],
 "metadata": {
  "kernelspec": {
   "display_name": "Python 3",
   "language": "python",
   "name": "python3"
  },
  "language_info": {
   "codemirror_mode": {
    "name": "ipython",
    "version": 3
   },
   "file_extension": ".py",
   "mimetype": "text/x-python",
   "name": "python",
   "nbconvert_exporter": "python",
   "pygments_lexer": "ipython3",
   "version": "3.11.10"
  }
 },
 "nbformat": 4,
 "nbformat_minor": 2
}
