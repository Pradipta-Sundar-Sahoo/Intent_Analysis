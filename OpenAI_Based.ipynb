{
 "cells": [
  {
   "cell_type": "code",
   "execution_count": null,
   "metadata": {},
   "outputs": [
    {
     "name": "stdout",
     "output_type": "stream",
     "text": [
      "Evaluating OpenAI model...\n"
     ]
    },
    {
     "name": "stderr",
     "output_type": "stream",
     "text": [
      "Evaluating: 100%|██████████| 66/66 [00:51<00:00,  1.29it/s]\n"
     ]
    }
   ],
   "source": [
    "import openai\n",
    "import pandas as pd\n",
    "from sklearn.metrics import classification_report\n",
    "from tqdm import tqdm\n",
    "\n",
    "import os\n",
    "from dotenv import load_dotenv\n",
    "load_dotenv()\n",
    "\n",
    "OPENAI_API_KEY = os.getenv(\"OPENAI_API_KEY\")\n",
    "\n",
    "if OPENAI_API_KEY is None:\n",
    "    print(\"Error: OPENAI_API_KEY is not set in the .env file.\")\n",
    "else:\n",
    "    openai.api_key = OPENAI_API_KEY\n",
    "    print(\"OpenAI API Key loaded successfully!\")\n",
    "\n",
    "# Load dataset\n",
    "file_path = 'train.csv'\n",
    "data = pd.read_csv(file_path)\n",
    "\n",
    "# Preprocessing\n",
    "X = data['sentence'].tolist()\n",
    "y = data['label'].tolist()\n",
    "label_to_index = {label: i for i, label in enumerate(set(y))}\n",
    "index_to_label = {i: label for label, i in label_to_index.items()}\n",
    "\n",
    "# Splitting the dataset\n",
    "from sklearn.model_selection import train_test_split\n",
    "X_train, X_val, y_train, y_val = train_test_split(X, y, test_size=0.2, random_state=42)\n",
    "\n",
    "# Helper Function to Classify Using OpenAI\n",
    "def classify_with_openai(prompt, candidate_labels, model=\"gpt-4\"):\n",
    "    try:\n",
    "        response = openai.ChatCompletion.create(\n",
    "            model=model,\n",
    "            messages=[\n",
    "                {\"role\": \"system\", \"content\": \"You are a helpful assistant for text classification. Just give the output as correct label\"},\n",
    "                {\"role\": \"user\", \"content\": prompt}\n",
    "            ],\n",
    "            temperature=0  # Ensures deterministic outputs\n",
    "        )\n",
    "        result = response['choices'][0]['message']['content'].strip()\n",
    "        return result\n",
    "    except Exception as e:\n",
    "        print(f\"Error: {e}\")\n",
    "        return None\n",
    "\n",
    "# Create prompts and classify\n",
    "def create_prompt(sentence, labels):\n",
    "    label_list = \", \".join(labels)\n",
    "    return f\"The following text: \\\"{sentence}\\\" belongs to one of these categories: {label_list}. Identify the most suitable category.\"\n",
    "\n",
    "# Evaluate the model\n",
    "def evaluate_openai(X_data, y_data, labels, model=\"gpt-4\"):\n",
    "    predictions = []\n",
    "    true_labels = []\n",
    "\n",
    "    for sentence, true_label in tqdm(zip(X_data, y_data), total=len(y_data), desc=\"Evaluating\"):\n",
    "        prompt = create_prompt(sentence, labels)\n",
    "        predicted_label = classify_with_openai(prompt, labels, model=model)\n",
    "        predictions.append(predicted_label)\n",
    "        true_labels.append(true_label)\n",
    "\n",
    "    return predictions, true_labels\n",
    "\n",
    "# Run Evaluation\n",
    "print(\"Evaluating OpenAI model...\")\n",
    "candidate_labels = list(label_to_index.keys())\n",
    "predictions, true_labels = evaluate_openai(X_val, y_val, candidate_labels, model=\"gpt-4\")\n",
    "\n",
    "\n"
   ]
  },
  {
   "cell_type": "code",
   "execution_count": 9,
   "metadata": {},
   "outputs": [
    {
     "name": "stdout",
     "output_type": "stream",
     "text": [
      "\n",
      "Classification Report:\n",
      "                       precision    recall  f1-score   support\n",
      "\n",
      "   SIZE_CUSTOMIZATION       1.00      0.50      0.67         4\n",
      "             WARRANTY       0.67      0.67      0.67         3\n",
      "         DISTRIBUTORS       1.00      1.00      1.00         2\n",
      "        MATTRESS_COST       1.00      1.00      1.00         1\n",
      "100_NIGHT_TRIAL_OFFER       1.00      1.00      1.00         2\n",
      "             LEAD_GEN       0.50      1.00      0.67         1\n",
      "   ABOUT_SOF_MATTRESS       1.00      0.50      0.67         2\n",
      "               OFFERS       1.00      1.00      1.00         8\n",
      "       ORTHO_FEATURES       1.00      0.80      0.89         5\n",
      "    DELAY_IN_DELIVERY       1.00      0.75      0.86         4\n",
      "                  COD       0.75      0.75      0.75         4\n",
      "        ERGO_FEATURES       1.00      1.00      1.00         3\n",
      "              PILLOWS       0.75      1.00      0.86         3\n",
      "      RETURN_EXCHANGE       0.33      1.00      0.50         1\n",
      "         ORDER_STATUS       1.00      1.00      1.00         3\n",
      "     PRODUCT_VARIANTS       1.00      1.00      1.00         3\n",
      "        CHECK_PINCODE       1.00      1.00      1.00         2\n",
      "         CANCEL_ORDER       0.83      1.00      0.91         5\n",
      "           COMPARISON       0.25      1.00      0.40         1\n",
      "   WHAT_SIZE_TO_ORDER       1.00      1.00      1.00         5\n",
      "                  EMI       1.00      0.25      0.40         4\n",
      "\n",
      "             accuracy                           0.85        66\n",
      "            macro avg       0.86      0.87      0.82        66\n",
      "         weighted avg       0.92      0.85      0.85        66\n",
      "\n"
     ]
    }
   ],
   "source": [
    "# Classification Report\n",
    "print(\"\\nClassification Report:\")\n",
    "print(classification_report(true_labels, predictions, target_names=candidate_labels))\n"
   ]
  }
 ],
 "metadata": {
  "kernelspec": {
   "display_name": "Python 3",
   "language": "python",
   "name": "python3"
  },
  "language_info": {
   "codemirror_mode": {
    "name": "ipython",
    "version": 3
   },
   "file_extension": ".py",
   "mimetype": "text/x-python",
   "name": "python",
   "nbconvert_exporter": "python",
   "pygments_lexer": "ipython3",
   "version": "3.11.10"
  }
 },
 "nbformat": 4,
 "nbformat_minor": 2
}
